{
 "cells": [
  {
   "cell_type": "code",
   "execution_count": 36,
   "id": "da27dda5-456e-4bdb-883f-53fed3ec1c3d",
   "metadata": {},
   "outputs": [],
   "source": [
    "import pandas as pd\n",
    "import numpy as np \n",
    "from sklearn.tree import DecisionTreeClassifier\n",
    "from sklearn.metrics import f1_score, make_scorer\n",
    "from sklearn.model_selection import train_test_split, GridSearchCV\n"
   ]
  },
  {
   "cell_type": "code",
   "execution_count": 38,
   "id": "1d3202ba-fe56-46f9-8835-d0eccf1c4706",
   "metadata": {},
   "outputs": [],
   "source": [
    "file_data_name = \"data.csv\"\n",
    "data = np.asarray(pd.read_csv(file_data_name, header=None))\n",
    "X = data[:,:2]\n",
    "y = data[:, 2]\n",
    "\n",
    "x_train, x_test, y_train, y_test = train_test_split(X, y, test_size=0.2)\n"
   ]
  },
  {
   "cell_type": "code",
   "execution_count": null,
   "id": "500ce220-58dc-4447-9b3e-f7db7649cbd9",
   "metadata": {},
   "outputs": [],
   "source": []
  },
  {
   "cell_type": "code",
   "execution_count": 39,
   "id": "ca125460-3057-48bf-9b6a-edd7ace87515",
   "metadata": {},
   "outputs": [
    {
     "data": {
      "text/plain": [
       "DecisionTreeClassifier(max_depth=8)"
      ]
     },
     "execution_count": 39,
     "metadata": {},
     "output_type": "execute_result"
    }
   ],
   "source": [
    "model = DecisionTreeClassifier(max_depth=8)\n",
    "model.fit(x_train,y_train)"
   ]
  },
  {
   "cell_type": "code",
   "execution_count": 40,
   "id": "533a2f1c-1833-43c0-aa57-1673936a6964",
   "metadata": {},
   "outputs": [],
   "source": [
    "y_pred = model.predict(x_test)"
   ]
  },
  {
   "cell_type": "code",
   "execution_count": 41,
   "id": "8f73cc9a-19c1-45e0-ac62-c67949d71ecd",
   "metadata": {},
   "outputs": [
    {
     "data": {
      "text/plain": [
       "1.0"
      ]
     },
     "execution_count": 41,
     "metadata": {},
     "output_type": "execute_result"
    }
   ],
   "source": [
    "acc = accuracy_score(y_pred, y_test)\n",
    "acc"
   ]
  },
  {
   "cell_type": "code",
   "execution_count": 47,
   "id": "672cf167-30ca-4140-8b62-f1182b23378a",
   "metadata": {},
   "outputs": [
    {
     "name": "stdout",
     "output_type": "stream",
     "text": [
      "DecisionTreeClassifier(max_depth=6, random_state=42)\n",
      "train_score=1.0\n",
      "test_score=1.0\n"
     ]
    }
   ],
   "source": [
    "model = DecisionTreeClassifier(random_state=42)\n",
    "parameters = {'max_depth':[4,5,6,7,8,9], 'min_samples_leaf':[1,2,3,4], 'min_samples_split':[2,3,4,5,6,7]}\n",
    "scorer = make_scorer(f1_score)\n",
    "\n",
    "grid_model = GridSearchCV(estimator=model, param_grid=parameters, scoring=scorer)\n",
    "model_fit = grid_model.fit(x_train, y_train)\n",
    "best_model = model_fit.best_estimator_\n",
    "best_model.fit(x_train, y_train)\n",
    "\n",
    "print(best_model)\n",
    "train_predict = best_model.predict(x_train)\n",
    "test_predict = best_model.predict(x_test)\n",
    "\n",
    "train_score =f1_score(train_predict, y_train)\n",
    "test_score = f1_score(test_predict, y_test)\n",
    "\n",
    "print(f\"train_score={train_score}\")\n",
    "print(f\"test_score={test_score}\")\n"
   ]
  }
 ],
 "metadata": {
  "kernelspec": {
   "display_name": "Python 3 (ipykernel)",
   "language": "python",
   "name": "python3"
  },
  "language_info": {
   "codemirror_mode": {
    "name": "ipython",
    "version": 3
   },
   "file_extension": ".py",
   "mimetype": "text/x-python",
   "name": "python",
   "nbconvert_exporter": "python",
   "pygments_lexer": "ipython3",
   "version": "3.7.3"
  }
 },
 "nbformat": 4,
 "nbformat_minor": 5
}
